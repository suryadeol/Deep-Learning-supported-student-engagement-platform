{
 "cells": [
  {
   "cell_type": "code",
   "execution_count": 1,
   "id": "16327867",
   "metadata": {},
   "outputs": [
    {
     "name": "stdout",
     "output_type": "stream",
     "text": [
      "Image 0 saved\n",
      "Image 1 saved\n",
      "Image 2 saved\n",
      "Image 3 saved\n",
      "Image 4 saved\n",
      "Image 5 saved\n",
      "Image 6 saved\n",
      "Image 7 saved\n",
      "Image 8 saved\n",
      "Image 9 saved\n",
      "Image 10 saved\n",
      "Image 11 saved\n",
      "Image 12 saved\n",
      "Image 13 saved\n"
     ]
    }
   ],
   "source": [
    "import cv2\n",
    "import os\n",
    "\n",
    "# Create a directory to save images if not exists\n",
    "save_dir = 'captured_images'\n",
    "os.makedirs(save_dir, exist_ok=True)\n",
    "\n",
    "# Initialize camera\n",
    "cap = cv2.VideoCapture(0)\n",
    "\n",
    "# Set the resolution to 256x256\n",
    "cap.set(cv2.CAP_PROP_FRAME_WIDTH, 48)\n",
    "cap.set(cv2.CAP_PROP_FRAME_HEIGHT, 48)\n",
    "\n",
    "# Counter to keep track of captured images\n",
    "count = 0\n",
    "\n",
    "while True:\n",
    "    ret, frame = cap.read()\n",
    "    if not ret:\n",
    "        print(\"Failed to capture image\")\n",
    "        break\n",
    "\n",
    "    # Show the frame\n",
    "    cv2.imshow('Capture Frame', frame)\n",
    "\n",
    "    # Wait for 'q' key to be pressed to capture an image\n",
    "    key = cv2.waitKey(1)\n",
    "    if key == ord('q'):\n",
    "        # Save the image\n",
    "        image_name = os.path.join(save_dir, f'image_{count}.jpg')\n",
    "        cv2.imwrite(image_name, frame)\n",
    "        print(f\"Image {count} saved\")\n",
    "        count += 1\n",
    "\n",
    "    # Break the loop if 'q' key is pressed again\n",
    "    elif key == ord('s'):\n",
    "        break\n",
    "\n",
    "# Release the camera and close all OpenCV windows\n",
    "cap.release()\n",
    "cv2.destroyAllWindows()\n"
   ]
  },
  {
   "cell_type": "code",
   "execution_count": null,
   "id": "32ef96c2",
   "metadata": {},
   "outputs": [],
   "source": []
  }
 ],
 "metadata": {
  "kernelspec": {
   "display_name": "Python 3 (ipykernel)",
   "language": "python",
   "name": "python3"
  },
  "language_info": {
   "codemirror_mode": {
    "name": "ipython",
    "version": 3
   },
   "file_extension": ".py",
   "mimetype": "text/x-python",
   "name": "python",
   "nbconvert_exporter": "python",
   "pygments_lexer": "ipython3",
   "version": "3.10.6"
  }
 },
 "nbformat": 4,
 "nbformat_minor": 5
}
